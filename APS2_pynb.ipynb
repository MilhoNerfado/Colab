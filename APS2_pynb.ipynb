{
  "nbformat": 4,
  "nbformat_minor": 0,
  "metadata": {
    "colab": {
      "name": "APS2.pynb",
      "provenance": [],
      "authorship_tag": "ABX9TyNF2E/JzlsbExJCNDmsNs4U",
      "include_colab_link": true
    },
    "kernelspec": {
      "name": "python3",
      "display_name": "Python 3"
    },
    "language_info": {
      "name": "python"
    }
  },
  "cells": [
    {
      "cell_type": "markdown",
      "metadata": {
        "id": "view-in-github",
        "colab_type": "text"
      },
      "source": [
        "<a href=\"https://colab.research.google.com/github/MilhoNerfado/Colab/blob/main/APS2_pynb.ipynb\" target=\"_parent\"><img src=\"https://colab.research.google.com/assets/colab-badge.svg\" alt=\"Open In Colab\"/></a>"
      ]
    },
    {
      "cell_type": "code",
      "execution_count": 51,
      "metadata": {
        "colab": {
          "base_uri": "https://localhost:8080/"
        },
        "id": "P9vwNDwV7dtN",
        "outputId": "fb54bda8-9a9f-455a-a7a8-3587701da37a"
      },
      "outputs": [
        {
          "output_type": "stream",
          "name": "stdout",
          "text": [
            "[0, 1, 2, 3, 4, 5, 6, 7, 8, 9, 10, 11, 12, 13, 14, 15]\n",
            "1 :  [1, 2, 3, 4, 5, 6, 7, 8]\n",
            "2 :  [8, 9, 10, 11, 12]\n",
            "3 :  [1, 3, 5, 7, 9, 11, 13, 15]\n",
            "4 :  [2, 4, 6, 8, 10, 12, 14]\n",
            "5 :  [0, 2, 3, 4, 6, 8, 9, 10, 12, 14, 15]\n",
            "6 :  [15, 14, 13, 12, 11, 10, 9, 8, 7, 6, 5, 4, 3, 2, 1, 0]\n",
            "7 :  1.8181818181818181\n"
          ]
        }
      ],
      "source": [
        "\n",
        "lista = []\n",
        "lp = []\n",
        "\n",
        "def Createlist(x):\n",
        "  for i in range(x):\n",
        "    lista.append(i)\n",
        "    lp.append(i)\n",
        "  print(lista)\n",
        "\n",
        "Createlist(16)\n",
        "\n",
        "\n",
        "lp[0] = lista[1:9]\n",
        "\n",
        "lp[1] = lista[8:13]\n",
        "\n",
        "lp[2] = lista[1::2]\n",
        "\n",
        "lp[3] = lista[2::2]\n",
        "\n",
        "lp[4] = lista[:]\n",
        "\n",
        "for t in range(len(lp[4])):\n",
        "  if t%2 != 0 and t%3 != 0:\n",
        "    lp[4].remove(t)\n",
        "\n",
        "lp[5] = lista[:]\n",
        "\n",
        "lp[5].reverse()\n",
        "\n",
        "lp[6] = lista[:]\n",
        "\n",
        "op1 = lp[6][10:15]\n",
        "op2 = lp[6][3:9]\n",
        "sum1 = 0.0\n",
        "sum2 = 0.0\n",
        "for o in range(len(op1)):\n",
        "  sum1 += op1[o]\n",
        "\n",
        "for p in range(len(op2)):\n",
        "  sum2 += op2[p]\n",
        "\n",
        "\n",
        "for i in range(6):\n",
        "  print(i+1, \": \", lp[i])\n",
        "\n",
        "\n",
        "print(\"7 : \", sum1/sum2)"
      ]
    }
  ]
}