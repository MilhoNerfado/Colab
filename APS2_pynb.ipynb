{
  "nbformat": 4,
  "nbformat_minor": 0,
  "metadata": {
    "colab": {
      "name": "APS2.pynb",
      "provenance": [],
      "authorship_tag": "ABX9TyOBuJJzeFlG0u1ik5EdC1/W",
      "include_colab_link": true
    },
    "kernelspec": {
      "name": "python3",
      "display_name": "Python 3"
    },
    "language_info": {
      "name": "python"
    }
  },
  "cells": [
    {
      "cell_type": "markdown",
      "metadata": {
        "id": "view-in-github",
        "colab_type": "text"
      },
      "source": [
        "<a href=\"https://colab.research.google.com/github/MilhoNerfado/Colab/blob/main/APS2_pynb.ipynb\" target=\"_parent\"><img src=\"https://colab.research.google.com/assets/colab-badge.svg\" alt=\"Open In Colab\"/></a>"
      ]
    },
    {
      "cell_type": "code",
      "execution_count": 42,
      "metadata": {
        "colab": {
          "base_uri": "https://localhost:8080/"
        },
        "id": "P9vwNDwV7dtN",
        "outputId": "c3cbd806-d87c-4711-ab23-62214418bfd2"
      },
      "outputs": [
        {
          "output_type": "stream",
          "name": "stdout",
          "text": [
            "[0, 1, 2, 3, 4, 5, 6, 7, 8, 9, 10, 11, 12, 13, 14, 15]\n",
            "[1, 2, 3, 4, 5, 6, 7, 8]\n",
            "[8, 9, 10, 11, 12]\n",
            "[1, 3, 5, 7, 9, 11, 13, 15]\n",
            "[2, 4, 6, 8, 10, 12, 14]\n",
            "[0, 2, 3, 4, 6, 8, 9, 10, 12, 14, 15]\n",
            "[15, 14, 13, 12, 11, 10, 9, 8, 7, 6, 5, 4, 3, 2, 1, 0]\n",
            "1.8181818181818181\n"
          ]
        }
      ],
      "source": [
        "\n",
        "lista = []\n",
        "def Createlist(x):\n",
        "  for i in range(x):\n",
        "    lista.append(i)\n",
        "  print(lista)\n",
        "\n",
        "Createlist(16)\n",
        "\n",
        "\n",
        "lista1 = lista[1:9]\n",
        "\n",
        "lista2 = lista[8:13]\n",
        "\n",
        "lista3 = lista[1::2]\n",
        "\n",
        "lista4 = lista[2::2]\n",
        "\n",
        "lista5 = lista[:]\n",
        "\n",
        "for t in range(len(lista5)):\n",
        "  if t%2 != 0 and t%3 != 0:\n",
        "    lista5.remove(t)\n",
        "\n",
        "lista6 = lista[:]\n",
        "\n",
        "lista6.reverse()\n",
        "\n",
        "lista7 = lista[:]\n",
        "\n",
        "op1 = lista7[10:15]\n",
        "op2 = lista7[3:9]\n",
        "sum1 = 0.0\n",
        "sum2 = 0.0\n",
        "for o in range(len(op1)):\n",
        "  sum1 += op1[o]\n",
        "\n",
        "for p in range(len(op2)):\n",
        "  sum2 += op2[p]\n",
        "\n",
        "print(lista1)\n",
        "\n",
        "print(lista2)\n",
        "\n",
        "print(lista3)\n",
        "\n",
        "print(lista4)\n",
        "\n",
        "print(lista5)\n",
        "\n",
        "print(lista6)\n",
        "\n",
        "print(sum1/sum2)"
      ]
    }
  ]
}