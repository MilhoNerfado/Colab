{
  "nbformat": 4,
  "nbformat_minor": 0,
  "metadata": {
    "colab": {
      "name": "Aula 6.ipynb",
      "provenance": [],
      "collapsed_sections": [],
      "authorship_tag": "ABX9TyMyB0mN7RiN7LfgoRzsLQd6",
      "include_colab_link": true
    },
    "kernelspec": {
      "name": "python3",
      "display_name": "Python 3"
    },
    "language_info": {
      "name": "python"
    }
  },
  "cells": [
    {
      "cell_type": "markdown",
      "metadata": {
        "id": "view-in-github",
        "colab_type": "text"
      },
      "source": [
        "<a href=\"https://colab.research.google.com/github/MilhoNerfado/Colab/blob/main/Aula_6.ipynb\" target=\"_parent\"><img src=\"https://colab.research.google.com/assets/colab-badge.svg\" alt=\"Open In Colab\"/></a>"
      ]
    },
    {
      "cell_type": "markdown",
      "source": [
        "# Aula 6\n",
        "\n",
        "+ Atribuição"
      ],
      "metadata": {
        "id": "c16W1a03nqrd"
      }
    },
    {
      "cell_type": "code",
      "source": [
        "\n",
        "\n",
        "li = [1, 2, 3, 'abc', 4]\n",
        "b = bool()\n",
        "\n",
        "if 4 in li:\n",
        "  b = True\n",
        "  print('4 está presente = ', b)\n",
        "else:\n",
        "  b = False\n",
        "  print('não está presente = ', b)\n",
        "\n",
        "\n",
        "\n"
      ],
      "metadata": {
        "colab": {
          "base_uri": "https://localhost:8080/"
        },
        "id": "h3l1_2QPnwh-",
        "outputId": "ec1da164-4f70-456b-8390-ba3412c88483"
      },
      "execution_count": 6,
      "outputs": [
        {
          "output_type": "stream",
          "name": "stdout",
          "text": [
            "4 está presente =  True\n"
          ]
        }
      ]
    },
    {
      "cell_type": "code",
      "source": [
        ""
      ],
      "metadata": {
        "colab": {
          "base_uri": "https://localhost:8080/"
        },
        "id": "5tXHDCDnv2vN",
        "outputId": "03fd0586-e2c5-495d-ce8a-1c45b99d46b6"
      },
      "execution_count": 15,
      "outputs": [
        {
          "output_type": "stream",
          "name": "stdout",
          "text": [
            "[1, 2, 3, 5, 4]\n",
            "[1, 2, 3, 5, 4]\n"
          ]
        }
      ]
    },
    {
      "cell_type": "code",
      "source": [
        "a = [1,3,4,5,6]\n",
        "b = []\n",
        "\n",
        "b = a[:]\n",
        "\n",
        "\n",
        "print(a)\n",
        "print(b)\n",
        "\n",
        "a[2] = 6\n",
        "\n",
        "print(a)\n",
        "print(b)"
      ],
      "metadata": {
        "colab": {
          "base_uri": "https://localhost:8080/"
        },
        "id": "WDNo_qLnv9hF",
        "outputId": "0b1fa75f-6334-4a4a-953d-69027cd0a41f"
      },
      "execution_count": 20,
      "outputs": [
        {
          "output_type": "stream",
          "name": "stdout",
          "text": [
            "[1, 3, 4, 5, 6]\n",
            "[1, 3, 4, 5, 6]\n",
            "[1, 3, 6, 5, 6]\n",
            "[1, 3, 4, 5, 6]\n"
          ]
        }
      ]
    },
    {
      "cell_type": "code",
      "source": [
        "a = [1,3,4,5,6]\n",
        "print(a)\n",
        "a = tuple(a)\n",
        "print(a)\n",
        "a = list(a)\n",
        "print(a)\n",
        "\n",
        "help(tuple)\n",
        "\n",
        "\n"
      ],
      "metadata": {
        "id": "Z7Li1dglyrpy"
      },
      "execution_count": null,
      "outputs": []
    },
    {
      "cell_type": "code",
      "source": [
        ""
      ],
      "metadata": {
        "id": "KCL1rOiz0KqG"
      },
      "execution_count": null,
      "outputs": []
    }
  ]
}