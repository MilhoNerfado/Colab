{
  "cells": [
    {
      "cell_type": "markdown",
      "metadata": {
        "colab_type": "text",
        "id": "view-in-github"
      },
      "source": [
        "<a href=\"https://colab.research.google.com/github/MilhoNerfado/Colab/blob/main/Pratica.ipynb\" target=\"_parent\"><img src=\"https://colab.research.google.com/assets/colab-badge.svg\" alt=\"Open In Colab\"/></a>"
      ]
    },
    {
      "cell_type": "markdown",
      "metadata": {
        "id": "DnmHiySPkZx7"
      },
      "source": [
        "# Some random exercises\n",
        "\n",
        "### most made in here are related to a exercise sheet my college professor introduced\n",
        "\n",
        "+ https://wiki.python.org.br/ListaDeExercicios"
      ]
    },
    {
      "cell_type": "code",
      "execution_count": null,
      "metadata": {
        "colab": {
          "base_uri": "https://localhost:8080/"
        },
        "id": "Ed8c4nU2zDKn",
        "outputId": "178a18ba-7639-4e00-8764-7b672766130e"
      },
      "outputs": [
        {
          "name": "stdout",
          "output_type": "stream",
          "text": [
            "1 \n",
            "2 2 \n",
            "3 3 3 \n",
            "4 4 4 4 \n",
            "5 5 5 5 5 \n"
          ]
        }
      ],
      "source": [
        "\n",
        "\n",
        "def op(n):\n",
        "  fl = 0.332\n",
        "  for o in range(1, 1 + n):\n",
        "    for t in range(1, 1 + o):\n",
        "      print(o , end=\" \")\n",
        "    print(\"\")\n",
        "\n",
        "op(5)"
      ]
    },
    {
      "cell_type": "code",
      "execution_count": null,
      "metadata": {
        "colab": {
          "base_uri": "https://localhost:8080/"
        },
        "id": "5JY1KuXNpfem",
        "outputId": "420e1cee-d4fa-4c5c-9f12-fb94272097a0"
      },
      "outputs": [
        {
          "name": "stdout",
          "output_type": "stream",
          "text": [
            "1 \n",
            "1 2 \n",
            "1 2 3 \n",
            "1 2 3 4 \n",
            "1 2 3 4 5 \n"
          ]
        }
      ],
      "source": [
        "def fn(n):\n",
        "  for y in range(1, 1 + n):\n",
        "    for i in range(1, 1 + y):\n",
        "      print(i, end=\" \", flush=True)\n",
        "    print(\"\")\n",
        "fn(5)\n"
      ]
    },
    {
      "cell_type": "code",
      "execution_count": null,
      "metadata": {
        "colab": {
          "base_uri": "https://localhost:8080/"
        },
        "id": "YTB7Grg52OVx",
        "outputId": "a5872936-417d-417d-a21b-ac64eaa49c1b"
      },
      "outputs": [
        {
          "name": "stdout",
          "output_type": "stream",
          "text": [
            "6:40PM   😁\n"
          ]
        }
      ],
      "source": [
        "def convert(h, m):\n",
        "  store = []\n",
        "  if h < 13 and m < 60:\n",
        "    q = \"AM\"\n",
        "  else: q = 'PM'\n",
        "  \n",
        "  if q == \"PM\":\n",
        "    h -= 12\n",
        "  \n",
        "  time = str(h) + \":\" + str(m) + q + \"   \\U0001f601\"\n",
        "  return time\n",
        "\n",
        "def print_time(h, m):\n",
        "  print(convert(h, m))\n",
        "\n",
        "\n",
        "print_time(18,40)\n"
      ]
    },
    {
      "cell_type": "code",
      "execution_count": null,
      "metadata": {
        "colab": {
          "base_uri": "https://localhost:8080/"
        },
        "id": "61FgORXkBaFd",
        "outputId": "a8aced0d-359a-4b10-f701-81c8b8bf8a05"
      },
      "outputs": [
        {
          "name": "stdout",
          "output_type": "stream",
          "text": [
            "4032\n"
          ]
        }
      ],
      "source": [
        "def func(n):\n",
        "  r = 0\n",
        "  while n > 0:\n",
        "    resto = n % 10\n",
        "    r = (r * 10) + resto\n",
        "    n = n // 10\n",
        "  print(r)\n",
        "\n",
        "func(2304)"
      ]
    },
    {
      "cell_type": "code",
      "execution_count": null,
      "metadata": {
        "colab": {
          "base_uri": "https://localhost:8080/"
        },
        "id": "_hIv3D8KFV08",
        "outputId": "7759bc77-5d52-478e-dff5-65537319ebf4"
      },
      "outputs": [
        {
          "name": "stdout",
          "output_type": "stream",
          "text": [
            "True\n",
            "good\n"
          ]
        }
      ],
      "source": [
        "class teste:\n",
        "  valor = True\n",
        "  opt = \"good\"\n",
        "\n",
        "  def func(self):\n",
        "    print(self.valor)\n",
        "    return self.opt\n",
        "\n",
        "o = teste()\n",
        "\n",
        "\n",
        "print(o.func())\n",
        "\n",
        "\n"
      ]
    },
    {
      "cell_type": "code",
      "execution_count": null,
      "metadata": {
        "id": "xEKR0PX07afp"
      },
      "outputs": [],
      "source": [
        "save = []\n",
        "\n",
        "\n",
        "def ativBomb(id, **extra):\n",
        "  try:\n",
        "    new = [id, extra['tipo'], extra['valor'], extra['qnt']]\n",
        "    save.append(new)\n",
        "  except:\n",
        "    print(\"error\")\n",
        "    return\n",
        "  \n",
        "\n",
        "class bombaCombustível:\n",
        "  id = int()\n",
        "  tipoCombustivel = str()\n",
        "  valorLitro = float()\n",
        "  quantidadeCombustivel = float()\n",
        "\n",
        "  def abastecerPorValor( ):             # método onde é informado o valor a ser abastecido e mostra a quantidade de litros que foi colocada no veículo\n",
        "    pass\n",
        "\n",
        "  def abastecerPorLitro():              # método onde é informado a quantidade em litros de combustível e mostra o valor a ser pago pelo cliente.\n",
        "    pass\n",
        "\n",
        "  def alterarValor():                   # altera o valor do litro do combustível.\n",
        "    pass\n",
        "\n",
        "  def alterarCombustivel():             #  altera o tipo do combustível.\n",
        "    pass\n",
        "\n",
        "  def alterarQuantidadeCombustivel():   #  altera a quantidade de combustível restante na bomba.\n",
        "    pass\n",
        "\n",
        "    ativBomb(1)"
      ]
    },
    {
      "cell_type": "code",
      "execution_count": 3,
      "metadata": {
        "colab": {
          "base_uri": "https://localhost:8080/",
          "height": 356
        },
        "id": "2IyjJ_hK-o8c",
        "outputId": "240659be-03fc-41dc-b6e4-4bdab8ecb59f"
      },
      "outputs": [
        {
          "name": "stdout",
          "output_type": "stream",
          "text": [
            "0  []\n",
            "1  [0, 1, 2, 3, 4, 5, 6, 7, 8, 9]\n",
            "2  [0, 1, 2, 3, 4, 80, 6, 7, 8, 9]\n",
            "3  [0, 1, 2, 3, 4]\n"
          ]
        }
      ],
      "source": [
        "ls = []\n",
        "\n",
        "def addlimitlist(x):\n",
        "  for i in range(x):\n",
        "    ls.append(i)\n",
        "    \n",
        "def removelimitlist(x):\n",
        "  for i in range(x):\n",
        "    ls.pop()\n",
        "\n",
        "print(\"0 \",ls)\n",
        "\n",
        "addlimitlist(10)\n",
        "\n",
        "print(\"1 \",ls)\n",
        "\n",
        "ls[5] = 80\n",
        "\n",
        "print(\"2 \",ls)\n",
        "\n",
        "removelimitlist(5)\n",
        "\n",
        "print(\"3 \",ls)"
      ]
    }
  ],
  "metadata": {
    "colab": {
      "authorship_tag": "ABX9TyMkshZAK7F7iiLAqd0Hx2L4",
      "collapsed_sections": [],
      "include_colab_link": true,
      "name": "Pratica.ipynb",
      "provenance": []
    },
    "kernelspec": {
      "display_name": "Python 3",
      "name": "python3"
    },
    "language_info": {
      "codemirror_mode": {
        "name": "ipython",
        "version": 3
      },
      "file_extension": ".py",
      "mimetype": "text/x-python",
      "name": "python",
      "nbconvert_exporter": "python",
      "pygments_lexer": "ipython3",
      "version": "3.7.9"
    }
  },
  "nbformat": 4,
  "nbformat_minor": 0
}
